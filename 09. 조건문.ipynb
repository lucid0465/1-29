{
 "cells": [
  {
   "cell_type": "markdown",
   "id": "53b60b05",
   "metadata": {},
   "source": [
    "## 1 if 조건문\n",
    "\n",
    "### 1) if 기본문"
   ]
  },
  {
   "cell_type": "code",
   "execution_count": 7,
   "id": "4b455839",
   "metadata": {},
   "outputs": [
    {
     "name": "stdout",
     "output_type": "stream",
     "text": [
      "10\n",
      "10\n",
      "False\n"
     ]
    }
   ],
   "source": [
    "# if 기본문\n",
    "# 비교연산자\n",
    "a = 10\n",
    "b = 10\n",
    "\n",
    "if a > 0:\n",
    "    print(a)\n",
    "    print(b)\n",
    "\n",
    "if a > b:\n",
    "    print(a)\n",
    "    print(b)\n",
    "\n",
    "print(a > b)"
   ]
  },
  {
   "cell_type": "code",
   "execution_count": 11,
   "id": "1714b6f8",
   "metadata": {},
   "outputs": [
    {
     "name": "stdout",
     "output_type": "stream",
     "text": [
      "False\n",
      "True\n",
      "False\n"
     ]
    }
   ],
   "source": [
    "# 논리 연산자\n",
    "a = True\n",
    "b = False\n",
    "\n",
    "print(a and b)\n",
    "print(a or b)\n",
    "print(not a)"
   ]
  },
  {
   "cell_type": "markdown",
   "id": "9905d76c",
   "metadata": {},
   "source": [
    "### 2) if~else문"
   ]
  },
  {
   "cell_type": "code",
   "execution_count": 14,
   "id": "92af0e36",
   "metadata": {},
   "outputs": [
    {
     "name": "stdout",
     "output_type": "stream",
     "text": [
      "b - a :  10\n"
     ]
    }
   ],
   "source": [
    "# 기본문\n",
    "# a = 10, b = 20 \n",
    "# a와 b 차이를 출력하는데 큰 수에서 작은 수를 뺀 값을 출력\n",
    "\n",
    "\n",
    "if a > b:\n",
    "    print(\"a - b : \", a - b)\n",
    "else:\n",
    "    print(\"b - a : \", b - a)\n",
    "          \n"
   ]
  },
  {
   "cell_type": "code",
   "execution_count": null,
   "id": "274ddcec",
   "metadata": {},
   "outputs": [],
   "source": [
    "# money : 2000원, card = True\n",
    "# 3000원 이상이 있거나, 카드가 있으면 \"택시타세요\" 출력\n",
    "# 위 조건외에는'도보를 이용하세요.'\n",
    "\n",
    "money = 2000 \n",
    "card = True\n",
    "\n",
    "if money >= 3000 or card:\n",
    "    print(\"택시타세요\")\n",
    "else: \n",
    "    print(\"도보를 이용하세요\")"
   ]
  },
  {
   "cell_type": "markdown",
   "id": "2e290da1",
   "metadata": {},
   "source": [
    "### 3) if ~elif~ else 문"
   ]
  },
  {
   "cell_type": "code",
   "execution_count": null,
   "id": "4ef359f6",
   "metadata": {},
   "outputs": [],
   "source": [
    "# 기본문\n",
    "\n",
    "point = 330\n",
    "\n",
    "if point >= 90:\n",
    "    print(\"A등급\")\n",
    "elif point >= 80: \n",
    "    print(\"B등급\")\n",
    "elif point >= 70:\n",
    "    print(\"C등급\")\n",
    "else:\n",
    "    pirnt(\"D등급\")\n",
    "\n",
    "\n"
   ]
  },
  {
   "cell_type": "code",
   "execution_count": null,
   "id": "a1fbe8fc",
   "metadata": {},
   "outputs": [],
   "source": [
    "# 중첩 if 문장\n",
    "# money를 입력받아요.. 문구는 \"현재 가지고 있는 현금이 얼마입니까?\"\n",
    "# distance(거리:k)를 입력받음.. 문구는 : \"거리가 몇 km입니까?\"\n",
    "\n",
    "#money가 3천원 이상이면 \"택시를 이용하세요\" 출력\n",
    "#2천원 이상이면 \"버스를 이용하세요\" 출력\n",
    "# 2천원 미만인 경우\n",
    "# 거리가 1km 이상이면 \"뛰어가세요\" 출력\n",
    "# 거리가 1km 미만이면 \"걸어가세요\" 출력\n",
    "\n",
    "money = int(input(\"현재 가지고 있는 현금이 얼마입니까?\"))\n",
    "distance = flaot(input(\"거리가 몇 km입니까?\"))\n",
    "#print(money)\n",
    "#print(distance)\n",
    "#print(type(money), type(distance))\n",
    "\n",
    "if money >= 3000:\n",
    "    print(\"택시를 이용하세요\")\n",
    "elif money >= 2000:\n",
    "    print(\"버스를 이용하세요\")\n",
    "else:\n",
    "    if distance >= 1:\n",
    "        print(\"뛰어가세요\")\n",
    "    else:\n",
    "        print(\"걸어가세요\")"
   ]
  },
  {
   "cell_type": "code",
   "execution_count": null,
   "id": "38be4d71",
   "metadata": {},
   "outputs": [],
   "source": [
    "# if문, in 예제\n",
    "# pockek이 리스트 변수로 선언, 3개 요소 (\"paper\", 'cellphone', 'money')\n",
    "# pocket에 money가 있으면 \"택시를 이용하세요.\", 없으면 \"도보를 이용하세요\" 출력\n",
    "\n",
    "pocket = [\"paper\", \"cellphone\", \"money\"]\n",
    "\n",
    "if \"money\" in pocket:\n",
    "    print(\"택시를 이용하세요\")\n",
    "else:\n",
    "    print(\"도보를 이용하세요\")"
   ]
  },
  {
   "cell_type": "code",
   "execution_count": null,
   "id": "d4e770d2",
   "metadata": {},
   "outputs": [],
   "source": [
    "pocket = [\"paper\", \"cellphone\", \"money\"]\n",
    "\n",
    "if 'money' in pocket:\n",
    "    \n",
    "    pass\n",
    "\n",
    "    \n",
    "else:\n",
    "    \n",
    "    pass"
   ]
  },
  {
   "cell_type": "code",
   "execution_count": null,
   "id": "f1390745",
   "metadata": {},
   "outputs": [],
   "source": []
  },
  {
   "cell_type": "code",
   "execution_count": null,
   "id": "bd0c65ef",
   "metadata": {},
   "outputs": [],
   "source": []
  },
  {
   "cell_type": "code",
   "execution_count": null,
   "id": "486d2f83",
   "metadata": {},
   "outputs": [],
   "source": []
  }
 ],
 "metadata": {
  "kernelspec": {
   "display_name": "Python 3 (ipykernel)",
   "language": "python",
   "name": "python3"
  },
  "language_info": {
   "codemirror_mode": {
    "name": "ipython",
    "version": 3
   },
   "file_extension": ".py",
   "mimetype": "text/x-python",
   "name": "python",
   "nbconvert_exporter": "python",
   "pygments_lexer": "ipython3",
   "version": "3.10.6"
  }
 },
 "nbformat": 4,
 "nbformat_minor": 5
}
