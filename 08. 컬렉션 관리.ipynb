{
 "cells": [
  {
   "cell_type": "markdown",
   "id": "d4c9a1d6",
   "metadata": {},
   "source": [
    "### 1. 컬렉션 관리 함수\n",
    "### 1) enumerate()"
   ]
  },
  {
   "cell_type": "code",
   "execution_count": 2,
   "id": "ed64e8a7",
   "metadata": {},
   "outputs": [
    {
     "name": "stdout",
     "output_type": "stream",
     "text": [
      "[(1, 31), (2, 28), (3, 31), (4, 30), (5, 31), (6, 30)]\n",
      "{1: 31, 2: 28, 3: 31, 4: 30, 5: 31, 6: 30}\n"
     ]
    }
   ],
   "source": [
    "last_day = [31, 28, 31, 30, 31, 30]\n",
    "\n",
    "# for 문으로\n",
    "# 0월의 마지막 날짜는 0일입니다.\n",
    "print(list(enumerate(last_day,1)))\n",
    "\n",
    "# for 문으로\n",
    "# 0월의 마지막 날짜는 0일입니다.\n",
    "print(dict(enumerate(last_day,1)))"
   ]
  },
  {
   "cell_type": "markdown",
   "id": "8df0dc5b",
   "metadata": {},
   "source": [
    "### 2) zip()"
   ]
  },
  {
   "cell_type": "code",
   "execution_count": 8,
   "id": "d82de733",
   "metadata": {},
   "outputs": [
    {
     "name": "stdout",
     "output_type": "stream",
     "text": [
      "<zip object at 0x000001C6C3242980>\n",
      "[('1월', 31), ('2월', 28), ('3월', 31), ('4월', 30), ('5월', 31), ('6월', 30)]\n",
      "{'1월': 31, '2월': 28, '3월': 31, '4월': 30, '5월': 31, '6월': 30}\n"
     ]
    }
   ],
   "source": [
    "last_day = [31, 28, 31, 30, 31, 30]\n",
    "mon = [\"1월\", \"2월\", \"3월\", \"4월\", \"5월\", \"6월\"]\n",
    "\n",
    "print(zip(mon, last_day))\n",
    "print(list(zip(mon, last_day)))\n",
    "print(dict(zip(mon, last_day)))\n"
   ]
  },
  {
   "cell_type": "markdown",
   "id": "c5a328f7",
   "metadata": {},
   "source": [
    "## 2. filter / map / lambda 함수"
   ]
  },
  {
   "cell_type": "code",
   "execution_count": 3,
   "id": "69e32b19",
   "metadata": {},
   "outputs": [
    {
     "name": "stdout",
     "output_type": "stream",
     "text": [
      "[50, 60, 70, 80, 90, 100]\n"
     ]
    }
   ],
   "source": [
    "# filter\n",
    "\n",
    "def ftest(point):\n",
    "    return point + 20 > 60\n",
    "\n",
    "points = [30, 20, 10, 40, 50, 60, 70, 80 ,90, 100]\n",
    "print(list(filter(ftest, points)))"
   ]
  },
  {
   "cell_type": "code",
   "execution_count": 8,
   "id": "e810e707",
   "metadata": {},
   "outputs": [
    {
     "name": "stdout",
     "output_type": "stream",
     "text": [
      "[False, False, False, False, True, True, True, True, True, True]\n"
     ]
    }
   ],
   "source": [
    "# map\n",
    "\n",
    "points = [30, 20, 10, 40, 50, 60, 70, 80 ,90, 100]\n",
    "def mtest(point):\n",
    "    return point + 20 > 60\n",
    "\n",
    "print(list(map(mtest, points)))\n",
    "\n",
    "\n"
   ]
  },
  {
   "cell_type": "code",
   "execution_count": 10,
   "id": "8f49fe05",
   "metadata": {},
   "outputs": [
    {
     "name": "stdout",
     "output_type": "stream",
     "text": [
      "[50, 60, 70, 80, 90, 100]\n",
      "(60, 40, 20, 80, 100, 120, 140, 160, 180, 200)\n"
     ]
    }
   ],
   "source": [
    "# lambda\n",
    "points = [30, 20, 10, 40, 50, 60, 70, 80 ,90, 100]\n",
    "print(list(filter(lambda point : point + 20 > 60, points)))\n",
    "\n",
    "print(tuple(map(lambda point : point * 2, points)))\n"
   ]
  },
  {
   "cell_type": "code",
   "execution_count": 13,
   "id": "e45d3089",
   "metadata": {},
   "outputs": [
    {
     "name": "stdout",
     "output_type": "stream",
     "text": [
      "[50, 60, 70, 80, 90, 100]\n",
      "[60, 40, 20, 80, 100, 120, 140, 160, 180, 200]\n",
      "[100, 120, 140, 160, 180, 200]\n"
     ]
    }
   ],
   "source": [
    "# 리스트 컴프리헨션\n",
    "\n",
    "points = [30, 20, 10, 40, 50, 60, 70, 80 ,90, 100]\n",
    "\n",
    " \n",
    "print([ point for point in points if point + 20 > 60])\n",
    "print([ point * 2 for point in points ])\n",
    "\n",
    "print([point * 2 for point in points if point + 20 > 60])\n",
    "\n",
    "\n"
   ]
  },
  {
   "cell_type": "code",
   "execution_count": 28,
   "id": "a447197d",
   "metadata": {},
   "outputs": [
    {
     "name": "stdout",
     "output_type": "stream",
     "text": [
      "[100, 120, 160, 140, 180, 200]\n"
     ]
    }
   ],
   "source": [
    "# lambda, filter, map 함수를 활용하여 한줄로 만들어보세요\n",
    "\n",
    "#print([point * 2 for point in points if point + 20 > 60]) 의 결과값과 동일\n",
    "\n",
    "#filtera = filter(lambda point : point + 20 > 60, points)\n",
    "#print(list(filtera))      \n",
    "    \n",
    "#print(list(map(lambda point : point * 2, filter(lambda point : point + 20 > 60, points))))\n",
    "\n",
    "#filtera = filter(lambda point : point + 20 > 60, points)\n",
    "\n",
    "\n",
    "#print(list(map(lambda point : point * 2, filtera)))\n",
    "\n",
    "#list(map(lambda point : point * 2, filtera))\n",
    "\n",
    "\n",
    "\n",
    "#map(lambda point : point * 2, points)\n",
    "\n",
    "\n",
    "\n",
    "#print(list(filter(lambda point : point + 20 > 60, points)))\n",
    "\n",
    "#list(map(lambda point : point * 2, [10,20,30]))\n",
    "\n",
    "# lista = list(filter(lambda point : point + 20 > 60, points)\n",
    "# print(lista)\n",
    "points = [30, 20, 10 , 40, 50, 60, 80, 70, 90, 100]\n",
    "\n",
    "print(list(map(lambda point : point * 2, filter(lambda point : point + 20 > 60, points))))\n",
    "\n",
    "             \n",
    "#print(list(map(lambda point : point * 2, filtera)))\n",
    "\n",
    "#list(map(lambda point : point * 2, filtera))\n",
    "\n",
    "\n",
    "\n"
   ]
  },
  {
   "cell_type": "markdown",
   "id": "09aa6868",
   "metadata": {},
   "source": [
    "## 3. 컬렉션의 사본"
   ]
  },
  {
   "cell_type": "markdown",
   "id": "66214d98",
   "metadata": {},
   "source": [
    "### 1) 리스트의 사본"
   ]
  },
  {
   "cell_type": "code",
   "execution_count": 33,
   "id": "a3e589e3",
   "metadata": {},
   "outputs": [
    {
     "name": "stdout",
     "output_type": "stream",
     "text": [
      "1757329949200\n",
      "1757329949200\n",
      "True\n",
      "1757329949200\n",
      "1757329949520\n",
      "False\n"
     ]
    }
   ],
   "source": [
    "a = 10\n",
    "b = a\n",
    "\n",
    "print(id(a))\n",
    "print(id(b))\n",
    "print(a is b)\n",
    "\n",
    "b = 20\n",
    "print(id(a))\n",
    "print(id(b))\n",
    "print(a is b)"
   ]
  },
  {
   "cell_type": "code",
   "execution_count": 38,
   "id": "f60692c6",
   "metadata": {},
   "outputs": [
    {
     "name": "stdout",
     "output_type": "stream",
     "text": [
      "1757429958656\n",
      "1757429958656\n",
      "True\n",
      "_______________________\n",
      "1757429960704\n",
      "1757429958720\n",
      "False\n",
      "[10, 100, 30, 40, 50]\n",
      "[10, 100, 30, 40, 50]\n",
      "[10, 20, 30, 40, 50]\n"
     ]
    }
   ],
   "source": [
    "lista = [10, 20, 30, 40, 50]\n",
    "listb = lista\n",
    "\n",
    "print(id(lista))\n",
    "print(id(listb))\n",
    "print(lista is listb)\n",
    "\n",
    "print(\"_______________________\")\n",
    "\n",
    "listc = lista.copy()\n",
    "listd = lista[:]\n",
    "print(id(listc))\n",
    "print(id(listd))\n",
    "print(listc is listd)\n",
    "\n",
    "lista[1] = 100\n",
    "print(lista)\n",
    "print(listb)\n",
    "print(listc)"
   ]
  },
  {
   "cell_type": "code",
   "execution_count": 44,
   "id": "1da53b36",
   "metadata": {},
   "outputs": [
    {
     "name": "stdout",
     "output_type": "stream",
     "text": [
      "[10, 20, [110, 120, 130], 40, 50]\n",
      "[10, 20, [110, 120, 130], 40, 50]\n",
      "1757429843840\n",
      "1757429855872\n",
      "1757429843840\n",
      "1757429855872\n",
      "[10, 300, [110, 120, 130], 40, 50]\n",
      "[10, 20, [110, 120, 130], 40, 50]\n",
      "[10, 300, [110, 1000, 130], 40, 50]\n",
      "[10, 20, [110, 1000, 130], 40, 50]\n",
      "1757429843840\n",
      "1757429855872\n",
      "---------------------------\n",
      "1757429857088\n",
      "1757429857088\n"
     ]
    }
   ],
   "source": [
    "import copy\n",
    "\n",
    "lista = [10, 20, [110, 120, 130], 40, 50]\n",
    "listb = lista.copy()\n",
    "#listc = copy.deepcopy(lista)\n",
    "\n",
    "print(lista)\n",
    "print(listb)\n",
    "\n",
    "print(id(lista))\n",
    "print(id(listb))\n",
    "\n",
    "lista[1] = 300\n",
    "print(id(lista))\n",
    "print(id(listb))\n",
    "(\"--------------------\")\n",
    "print(lista)\n",
    "print(listb)\n",
    "\n",
    "lista[2][1] = 1000\n",
    "print(lista)\n",
    "print(listb)\n",
    "\n",
    "print(id(lista))\n",
    "print(id(listb))\n",
    "print(\"---------------------------\")\n",
    "print(id(lista[2]))\n",
    "print(id(listb[2]))"
   ]
  },
  {
   "cell_type": "code",
   "execution_count": null,
   "id": "34199d4c",
   "metadata": {},
   "outputs": [],
   "source": []
  },
  {
   "cell_type": "code",
   "execution_count": null,
   "id": "5b69a4f5",
   "metadata": {},
   "outputs": [],
   "source": []
  },
  {
   "cell_type": "code",
   "execution_count": null,
   "id": "f873ba67",
   "metadata": {},
   "outputs": [],
   "source": []
  },
  {
   "cell_type": "markdown",
   "id": "a9a67299",
   "metadata": {},
   "source": [
    "### [참고]"
   ]
  },
  {
   "cell_type": "code",
   "execution_count": 30,
   "id": "0f21ac25",
   "metadata": {},
   "outputs": [
    {
     "name": "stdout",
     "output_type": "stream",
     "text": [
      "[1, 2, 3]\n",
      "[1, 10, 3]\n",
      "[1, 10, 3]\n"
     ]
    }
   ],
   "source": [
    "# mutable 자료형인 경우 함수내 변경 예제\n",
    "def coll_test(a):\n",
    "    print(a)\n",
    "    a[1] = 10\n",
    "    print(a)\n",
    "    \n",
    "lista = [1,2,3]\n",
    "coll_test(lista)\n",
    "print(lista)\n"
   ]
  },
  {
   "cell_type": "code",
   "execution_count": null,
   "id": "f6f025fe",
   "metadata": {},
   "outputs": [],
   "source": []
  }
 ],
 "metadata": {
  "kernelspec": {
   "display_name": "Python 3 (ipykernel)",
   "language": "python",
   "name": "python3"
  },
  "language_info": {
   "codemirror_mode": {
    "name": "ipython",
    "version": 3
   },
   "file_extension": ".py",
   "mimetype": "text/x-python",
   "name": "python",
   "nbconvert_exporter": "python",
   "pygments_lexer": "ipython3",
   "version": "3.10.6"
  }
 },
 "nbformat": 4,
 "nbformat_minor": 5
}
